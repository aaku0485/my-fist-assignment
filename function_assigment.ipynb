{
  "nbformat": 4,
  "nbformat_minor": 0,
  "metadata": {
    "colab": {
      "provenance": [],
      "mount_file_id": "1wPVsSr7amz2IWA2zqYFhyRHZ-nF-jxWP",
      "authorship_tag": "ABX9TyOsIGet1Bl77Yo8elwbuX1l",
      "include_colab_link": true
    },
    "kernelspec": {
      "name": "python3",
      "display_name": "Python 3"
    },
    "language_info": {
      "name": "python"
    }
  },
  "cells": [
    {
      "cell_type": "markdown",
      "metadata": {
        "id": "view-in-github",
        "colab_type": "text"
      },
      "source": [
        "<a href=\"https://colab.research.google.com/github/aaku0485/my-fist-assignment/blob/main/function_assigment.ipynb\" target=\"_parent\"><img src=\"https://colab.research.google.com/assets/colab-badge.svg\" alt=\"Open In Colab\"/></a>"
      ]
    },
    {
      "cell_type": "code",
      "execution_count": null,
      "metadata": {
        "colab": {
          "base_uri": "https://localhost:8080/"
        },
        "id": "G-ChGIyKRY1N",
        "outputId": "025dd420-3a0d-4185-db80-c8e873ba8591"
      },
      "outputs": [
        {
          "output_type": "stream",
          "name": "stdout",
          "text": [
            "Hello, Aakash!\n",
            "Woof!\n"
          ]
        }
      ],
      "source": [
        "#what is difference between function and method in python.\n",
        "'''\n",
        "Python Method\n",
        "\n",
        "Method is called by its name, but it is associated to an object (dependent).\n",
        "A method is implicitly passed the object on which it is invoked.\n",
        "It may or may not return any data.\n",
        "A method can operate on the data (instance variables) that is contained by the -\n",
        "-corresponding class\n",
        "\n",
        "Functions\n",
        "\n",
        "A function is a block of code that is also called by its name. (independent)\n",
        "The function can have different parameters or may not have any at all. If any data-\n",
        " -(parameters) are passed, they are passed explicitly.\n",
        "It may or may not return any data.\n",
        "Function does not deal with Class and its instance concept.\n",
        "Difference between method and function\n",
        "\n",
        "Simply, function and method both look similar as they perform in an almost a similar\n",
        "-way, but the key difference is the concept of ‘Class and its Object‘.\n",
        "\n",
        "Functions can be called only by its name, as it is defined independently.\n",
        " But methods can’t be called by its name only, we need to invoke the class by -\n",
        " -a reference of that class in which it is defined, i.e. method is defined within a class and hence they are dependent on that class.'''\n",
        "\n",
        " #ex\n",
        " # Function\n",
        "def greet(name):\n",
        "    print(f\"Hello, {name}!\")\n",
        "\n",
        "# Method\n",
        "class Dog:\n",
        "    def bark(self):\n",
        "        print(\"Woof!\")\n",
        "\n",
        "# Calling the function\n",
        "greet(\"Aakash\")  # Output: Hello, aakash!\n",
        "\n",
        "# Calling the method\n",
        "my_dog = Dog()\n",
        "my_dog.bark()   # Output: Woof!\n"
      ]
    },
    {
      "cell_type": "code",
      "source": [
        "# Explain the concept of function arguments and parameters in python.\n",
        "'''Parameters:\n",
        "\n",
        "Parameters are the variables defined within the parentheses of a function's definition.\n",
        "They act as placeholders for the values that will be passed to the function when it's called.\n",
        "They are essentially the names used to represent the data that the function will work with.\n",
        "\n",
        "Arguments:\n",
        "\n",
        "Arguments are the actual values that are passed to a function when it is called.\n",
        "They are the concrete data that the function uses to perform its operations.\n",
        "They correspond to the parameters defined in the function's signature.\n",
        "Types of Arguments:\n",
        "\n",
        "Python supports several types of arguments:\n",
        "Positional arguments: These are passed in the order they are defined in the function's parameters.\n",
        "Keyword arguments: These are passed using the parameter name, like name=\"Aakash\".\n",
        "Default arguments: These have predefined values if not explicitly passed.\n",
        "Variable-length arguments: These allow passing an arbitrary number of arguments using *args (for positional) or **kwargs (for keyword).\n",
        "'''\n",
        "def greet(name, age):  # 'name' and 'age' are parameters\n",
        "    print(f\"Hello, {name}! You are {age} years old.\")\n",
        "\n",
        "greet(\"Aakash\", 25)\n"
      ],
      "metadata": {
        "colab": {
          "base_uri": "https://localhost:8080/"
        },
        "id": "EmPF8du6UoQt",
        "outputId": "89e411f1-f09c-4d16-ebab-ca39a125060e"
      },
      "execution_count": null,
      "outputs": [
        {
          "output_type": "stream",
          "name": "stdout",
          "text": [
            "Hello, Aakash! You are 25 years old.\n"
          ]
        }
      ]
    },
    {
      "cell_type": "code",
      "source": [
        "#what are the different ways to define and call a function.\n",
        "'''\n",
        "Python Functions is a block of statements that return the specific task. The idea-\n",
        "-is to put some commonly or repeatedly done tasks together and make a function so-\n",
        "-that instead of writing the same code again and again for different inputs, we can-\n",
        "- do the function calls to reuse code contained in it over and over again.\n",
        "\n",
        "Some Benefits of Using Functions\n",
        "\n",
        "Increase Code Readability\n",
        "Increase Code Reusability\n",
        "\n",
        "Creating a Function in Python:\n",
        "We can define a function in Python, using the def keyword. We can add any type of\n",
        "functionalities and properties to it as we require. By the following example, we\n",
        "can understand how to write a function in Python. In this way we can create Python\n",
        "function definition by using def keyword.\n",
        "\n",
        "Calling a Function in Python:\n",
        "After creating a function in Python we can call it by using the name of the functions\n",
        "Python followed by parenthesis containing parameters of that particular function.\n",
        "Below is the example for calling def function Python.'''\n",
        "\n",
        "# A simple Python function\n",
        "def fun():\n",
        "    print(\"Welcome to GFG\")\n",
        "\n",
        "\n",
        "# Driver code to call a function\n",
        "fun()\n",
        "\n",
        "\n"
      ],
      "metadata": {
        "colab": {
          "base_uri": "https://localhost:8080/"
        },
        "id": "QqhT3k95dZ-i",
        "outputId": "88396bdb-ecc4-4cd9-b8c5-90578eaa0090"
      },
      "execution_count": null,
      "outputs": [
        {
          "output_type": "stream",
          "name": "stdout",
          "text": [
            "Welcome to GFG\n"
          ]
        }
      ]
    },
    {
      "cell_type": "code",
      "source": [
        "#what is the purpose of \"return\" statement in the python function.\n",
        "'''\n",
        "A return statement is used to end the execution of the function call and “returns”\n",
        "the result (value of the expression following the return keyword) to the caller.\n",
        "The statements after the return statements are not executed. If the return\n",
        "statement is without any expression, then the special value None is returned.\n",
        "A return statement is overall used to invoke a function so that the passed\n",
        "statements can be executed.def fun():\n",
        "    statements\n",
        "    .\n",
        "    .\n",
        "    return [expression]'''\n",
        "\n",
        "# Python program to\n",
        "# demonstrate return statement\n",
        "\n",
        "def add(a, b):\n",
        "\n",
        "    # returning sum of a and b\n",
        "    return a + b\n",
        "\n",
        "def is_true(a):\n",
        "\n",
        "    # returning boolean of a\n",
        "    return bool(a)\n",
        "\n",
        "# calling function\n",
        "res = add(2, 3)\n",
        "print(\"Result of add function is {}\".format(res))\n",
        "\n",
        "res = is_true(2<5)\n",
        "print(\"\\nResult of is_true function is {}\".format(res))\n"
      ],
      "metadata": {
        "colab": {
          "base_uri": "https://localhost:8080/"
        },
        "id": "cZoccWUYmGXI",
        "outputId": "9725cb03-ee45-442f-9cff-fdc2e5595f34"
      },
      "execution_count": null,
      "outputs": [
        {
          "output_type": "stream",
          "name": "stdout",
          "text": [
            "Result of add function is 5\n",
            "\n",
            "Result of is_true function is True\n"
          ]
        }
      ]
    },
    {
      "cell_type": "code",
      "source": [
        "#what are iterators in python and how they are different from iterables.\n",
        "'''\n",
        "An iterator, on the other hand, is an object that facilitates the process of\n",
        "looping over another object (which is iterable). The __next__() method is used\n",
        "for this iteration process. This method allows iterators to return the next available\n",
        "item from the object.\n",
        "It's important to note that while all iterators are iterables, not all iterables are\n",
        "iterators. For example, a list is iterable but it is not an iterator. However, we can\n",
        "create an iterator from an iterable using the iter() function. For this to happen,\n",
        "the object's class requires either an __iter__ method, which returns an iterator, or\n",
        "a __getitem__ method that utilizes sequential indexes starting from 0.\n",
        "\n",
        "When we run a loop, we use the iter() method on the object that is being looped over.\n",
        "If this call is successful, an iterator object that defines the __next__() method is\n",
        "returned. This method accesses the elements in an object one at a time.\n",
        "\n",
        "If there are no more elements to access, then the __next__() method will raise a\n",
        "StopIteration exception. As soon as this exception is caught by the for loop, it will\n",
        "stop immediately.'''\n",
        "\n",
        "x = 90\n",
        "list = [423, 64, 'hello', [9,2]]\n",
        "\n",
        "try:\n",
        "    for e in list:\n",
        "        print(e)\n",
        "\n",
        "    print(\"Successfully Iterated\")\n",
        "\n",
        "    for i in x:\n",
        "        print(x)\n",
        "\n",
        "    print(\"Successfully Iterated\")\n",
        "except TypeError:\n",
        "    print(\"Not Iterable\")\n",
        "\n",
        "else:\n",
        "    print(\"Some other error\")\n"
      ],
      "metadata": {
        "colab": {
          "base_uri": "https://localhost:8080/"
        },
        "id": "hyaxM0pznbgl",
        "outputId": "48b9ef18-5d15-4a7a-a9be-0fee72cbcc44"
      },
      "execution_count": null,
      "outputs": [
        {
          "output_type": "stream",
          "name": "stdout",
          "text": [
            "423\n",
            "64\n",
            "hello\n",
            "[9, 2]\n",
            "Successfully Iterated\n",
            "Not Iterable\n"
          ]
        }
      ]
    },
    {
      "cell_type": "code",
      "source": [
        "#explain the concept of generator in python and how they are defined.\n",
        "'''\n",
        "A generator function in Python is defined like a normal function, but whenever it\n",
        "needs to generate a value, it does so with the yield keyword rather than return. If\n",
        "the body of a def contains yield, the function automatically becomes a Python\n",
        "generator function.\n",
        "Generators in Python can be defined in two main ways:\n",
        "\n",
        "Using a generator function\n",
        "Using a generator expression\n",
        "\n",
        "1. Generator Function\n",
        "A generator function is defined using the def keyword, but with the use of the yield\n",
        "keyword instead of return. The yield keyword produces a value and pauses the function’s\n",
        "state. When the generator function is called again, execution resumes from where it\n",
        "was paused, allowing it to yield the next value in the sequence.\n",
        "\n",
        "2. Generator Expression\n",
        "A generator expression is similar to a list comprehension, but instead of producing a\n",
        "list, it returns a generator object. It's written in the same way as a list\n",
        "comprehension, but with parentheses () around the expression.\n",
        "'''\n",
        "#generator function examples\n",
        "def count_up_to(max):\n",
        "    count = 1\n",
        "    while count <= max:\n",
        "        yield count\n",
        "        count += 1\n",
        "\n",
        "\n",
        "\n",
        "#generator expression example :\n",
        "\n",
        "even_numbers = (x for x in range(10) if x % 2 == 0)\n",
        "print(even_numbers)\n",
        "\n",
        "\n",
        "\n"
      ],
      "metadata": {
        "colab": {
          "base_uri": "https://localhost:8080/"
        },
        "id": "ay-J2j1Gz5AT",
        "outputId": "602e9bb2-2877-441e-e452-2ebc0f547de0"
      },
      "execution_count": null,
      "outputs": [
        {
          "output_type": "stream",
          "name": "stdout",
          "text": [
            "<generator object <genexpr> at 0x7f2cbf603ca0>\n"
          ]
        }
      ]
    },
    {
      "cell_type": "code",
      "source": [
        "#what are the advantages of using generators over regular function.\n",
        "'''\n",
        "Memory Efficiency: One of the biggest advantages of generators is that they are memory\n",
        "efficient. Since a generator yields its values one by one, it does not need to store\n",
        "all of the values in memory at once. This can be especially useful when working with\n",
        "large data sets, as it reduces the risk of running out of memory.\n",
        "\n",
        "Readability: Generators can make your code easier to read and understand. By breaking\n",
        "up the iteration process into smaller chunks, you can write code that is more concise\n",
        "and easier to follow.\n",
        "\n",
        "Speed: Generators can also be faster than regular loops, especially when working with\n",
        "large data sets. This is because they avoid the overhead of creating a list or other\n",
        "data structure to store the results.\n",
        "'''\n",
        "def first_ten_numbers():\n",
        "    for i in range(10):\n",
        "        yield i\n",
        "\n"
      ],
      "metadata": {
        "id": "Vi8VquBV2qiM"
      },
      "execution_count": 31,
      "outputs": []
    },
    {
      "cell_type": "code",
      "source": [
        "#explain the lamda function in python and how they are defined.\n",
        "'''\n",
        "A lambda function in Python is a small, anonymous function that is defined using the lambda\n",
        "keyword. Unlike regular functions that are defined using the def keyword, lambda functions are\n",
        "typically used for short-lived operations or functions that are not meant to be reused multiple\n",
        "times. They can take any number of arguments, but they can only have one expression.\n",
        "\n",
        "Lambda functions are often used where you need a function for a short period and don’t want to\n",
        "formally define it with def.\n",
        "\n",
        "Syntax of a Lambda Function\n",
        "The general syntax of a lambda function is:\n",
        "\n",
        "\n",
        "lambda arguments: expression\n",
        "arguments: These are the inputs (parameters) that the lambda function takes. A lambda function\n",
        "can take multiple arguments, but it is not mandatory.\n",
        "\n",
        "expression: This is a single expression that is evaluated and returned. The expression can use\n",
        "the arguments in any way, but it should be a single expression, not a statement\n",
        "(like a loop or conditional block).\n",
        "\n",
        "Key Characteristics of Lambda Functions :\n",
        "\n",
        "Anonymous: Lambda functions do not have a name (unless assigned to a variable, as shown above).\n",
        "\n",
        "Single Expression: The body of a lambda function can only be a single expression. There can be\n",
        "no multiple statements or code blocks inside the lambda function.\n",
        "\n",
        "Return: The result of the expression is automatically returned (you don't need to explicitly use\n",
        "the return keyword).\n",
        "\n",
        "Function Arguments: Lambda functions can take any number of arguments but must have exactly one\n",
        "expression.\n",
        "'''\n",
        "\n",
        "def make_multiplier(factor):\n",
        "    return lambda x: x * factor\n",
        "\n",
        "double = make_multiplier(2)\n",
        "print(double(5))  # Output: 10\n",
        "\n"
      ],
      "metadata": {
        "colab": {
          "base_uri": "https://localhost:8080/"
        },
        "id": "odNPqNjj5-PA",
        "outputId": "a658d9fa-2eeb-4c56-a613-416ab5e24f92"
      },
      "execution_count": null,
      "outputs": [
        {
          "output_type": "stream",
          "name": "stdout",
          "text": [
            "10\n"
          ]
        }
      ]
    },
    {
      "cell_type": "code",
      "source": [],
      "metadata": {
        "id": "7AEOGU0vC2o4"
      },
      "execution_count": null,
      "outputs": []
    },
    {
      "cell_type": "code",
      "source": [
        "#explain the pupose and usage of map function in python.\n",
        "'''\n",
        "The map() function in Python is a built-in function that applies a given function to all items\n",
        "in an iterable (like a list, tuple, or set) and returns an iterator that produces the results.\n",
        "It is used to perform operations on each element of an iterable in a concise and efficient\n",
        "manner.\n",
        "\n",
        "Key Points about map():\n",
        "Applies Function to Iterable: The primary purpose of map() is to apply a function to each item\n",
        "in the iterable(s) and return an iterator that yields the transformed results.\n",
        "\n",
        "Lazy Evaluation: map() returns an iterator, meaning that the function is applied lazily — only\n",
        "when the values are requested (e.g., via list() or for loop).\n",
        "\n",
        "Multiple Iterables: You can pass multiple iterables to map(). The function must accept as many\n",
        "arguments as there are iterables, and it applies the function to the items from all iterables\n",
        "in parallel.\n",
        "\n",
        "When you need to apply a function to every item in an iterable: If you have a list of values and\n",
        "want to apply the same transformation to each value (e.g., squaring numbers, formatting strings),\n",
        "map() is a clean and efficient solution.\n",
        "When you want to avoid writing a loop: Instead of writing a for loop, you can use map() to\n",
        "apply a function in a more functional programming style.\n",
        "When you need to process multiple iterables in parallel: map() can take multiple iterables,\n",
        "allowing you to apply a function to elements from several iterables at once.\n",
        "\n",
        "Transforming Data:\n",
        "map() is often used when you need to transform data in an iterable, like converting all strings\n",
        "to lowercase or applying a mathematical operation to each element.\n",
        "'''\n",
        "## Function to add two numbers\n",
        "def add(x, y):\n",
        "    return x + y\n",
        "\n",
        "# Two lists of numbers\n",
        "list1 = [1, 2, 3]\n",
        "list2 = [4, 5, 6]\n",
        "\n",
        "# Use map to add corresponding elements from both lists\n",
        "sum_list = map(add, list1, list2)\n",
        "\n",
        "# Convert the map object to a list and print it\n",
        "print(sum_list)\n",
        "\n",
        "\n"
      ],
      "metadata": {
        "id": "XFIQT8GS8QLN",
        "colab": {
          "base_uri": "https://localhost:8080/"
        },
        "outputId": "c5cc39cf-39ab-4206-f88a-b7555fb8cfe4"
      },
      "execution_count": 30,
      "outputs": [
        {
          "output_type": "stream",
          "name": "stdout",
          "text": [
            "<map object at 0x7f2cd7e30160>\n"
          ]
        }
      ]
    },
    {
      "cell_type": "code",
      "source": [
        "#what is the difference between 'map()' \"reduce()\" 'filter()' function in python ?\n",
        "'''\n",
        " map()\n",
        "Purpose: Applies a given function to each item in an iterable (or multiple iterables) and returns an iterator that produces the results.\n",
        "Return Type: Returns an iterator (which can be converted to a list, tuple, etc.).\n",
        "Usage: Useful when you want to transform each element of an iterable using a specific function.\n",
        "Behavior: The function is applied to each element of the iterable, and the result is returned as a\n",
        "map object.\n",
        "\n",
        "2. reduce()\n",
        "Purpose: Applies a binary function (a function that takes two arguments) cumulatively to the items in\n",
        "an iterable, reducing the iterable to a single value.\n",
        "\n",
        "Return Type: Returns a single result (not an iterator).\n",
        "Usage: Useful when you want to accumulate a result (e.g., sum, product, maximum) from an iterable.\n",
        "Behavior: The function is applied cumulatively to the elements, meaning it combines elements in a\n",
        "sequence to produce a single output.\n",
        "reduce() is not built-in directly in Python, but is available in the functools module.\n",
        "\n",
        "3. filter()\n",
        "Purpose: Filters elements from an iterable based on a condition, applying a function that returns either True or False for each element.\n",
        "Return Type: Returns an iterator of the elements for which the function returns True.\n",
        "Usage: Useful when you want to filter elements in an iterable based on some condition (e.g., keep only even numbers).\n",
        "Behavior: The function is applied to each element, and only those elements that satisfy the condition (True) are kept.\n",
        "'''\n"
      ],
      "metadata": {
        "colab": {
          "base_uri": "https://localhost:8080/",
          "height": 192
        },
        "collapsed": true,
        "id": "KSRfrxGPKyK8",
        "outputId": "2c26fd5d-2ba3-43a8-de51-5d109f5bf593"
      },
      "execution_count": 33,
      "outputs": [
        {
          "output_type": "execute_result",
          "data": {
            "text/plain": [
              "'\\n map()\\nPurpose: Applies a given function to each item in an iterable (or multiple iterables) and returns an iterator that produces the results.\\nReturn Type: Returns an iterator (which can be converted to a list, tuple, etc.).\\nUsage: Useful when you want to transform each element of an iterable using a specific function.\\nBehavior: The function is applied to each element of the iterable, and the result is returned as a \\nmap object.\\n\\n2. reduce()\\nPurpose: Applies a binary function (a function that takes two arguments) cumulatively to the items in \\nan iterable, reducing the iterable to a single value.\\n\\nReturn Type: Returns a single result (not an iterator).\\nUsage: Useful when you want to accumulate a result (e.g., sum, product, maximum) from an iterable.\\nBehavior: The function is applied cumulatively to the elements, meaning it combines elements in a \\nsequence to produce a single output.\\nreduce() is not built-in directly in Python, but is available in the functools module.\\n\\n3. filter()\\nPurpose: Filters elements from an iterable based on a condition, applying a function that returns either True or False for each element.\\nReturn Type: Returns an iterator of the elements for which the function returns True.\\nUsage: Useful when you want to filter elements in an iterable based on some condition (e.g., keep only even numbers).\\nBehavior: The function is applied to each element, and only those elements that satisfy the condition (True) are kept.\\n'"
            ],
            "application/vnd.google.colaboratory.intrinsic+json": {
              "type": "string"
            }
          },
          "metadata": {},
          "execution_count": 33
        }
      ]
    },
    {
      "cell_type": "code",
      "source": [
        "# Assuming you want to display the image.  If you intend to do something else,\n",
        "# please provide more context.  This is just a placeholder.\n",
        "from IPython.display import Image\n",
        "Image('/content/1000082189.jpg')"
      ],
      "metadata": {
        "colab": {
          "base_uri": "https://localhost:8080/",
          "height": 1000
        },
        "collapsed": true,
        "id": "aWzRO2_QdsA_",
        "outputId": "fce5fccb-27ad-46c0-ea8f-1cd680f06db0"
      },
      "execution_count": 37,
      "outputs": [
        {
          "output_type": "execute_result",
          "data": {
            "image/jpeg": "[encoded data removed]",
            "text/plain": [
              "<IPython.core.display.Image object>"
            ]
          },
          "metadata": {},
          "execution_count": 37
        }
      ]
    }
  ]
}